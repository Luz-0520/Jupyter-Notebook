{
 "cells": [
  {
   "cell_type": "markdown",
   "id": "e80d1966-9e95-4099-952b-b27bb3c2903f",
   "metadata": {
    "tags": []
   },
   "source": [
    "# Data Science Tools and Ecosystem"
   ]
  },
  {
   "cell_type": "markdown",
   "id": "aa3c5583-44dc-44cc-88f6-86eef1078c5f",
   "metadata": {},
   "source": [
    "In this notebook, Data Science Tools and Ecosystem are summarized."
   ]
  },
  {
   "cell_type": "markdown",
   "id": "e59eb16f-ffb3-4a0b-b004-e8bf0757a7c0",
   "metadata": {},
   "source": [
    "**Objectives**\n",
    "- List of the popular languages for Data Science\n",
    "- List of the commonly libraries by Data Science\n",
    "- Data Science's Tools\n",
    "- Arithmetic expressions"
   ]
  },
  {
   "cell_type": "markdown",
   "id": "03d38e06-2a16-4903-83fd-5edb05d7fa86",
   "metadata": {},
   "source": [
    "*Some of the popular languages that Data Science use are:*\n",
    "\n",
    "1. Python\n",
    "2. R\n",
    "3. SQL\n",
    "4. Java\n",
    "5. Scala"
   ]
  },
  {
   "cell_type": "markdown",
   "id": "26fbd597-cf2a-4e47-bf68-4fca45f2c210",
   "metadata": {},
   "source": [
    "*Some of the commonly used libraries by Data Science include:*\n",
    "\n",
    "1. Panda\n",
    "2. NumPy\n",
    "3. SciPy\n",
    "4. Matplotlib\n",
    "5. Jupyter Notebook"
   ]
  },
  {
   "cell_type": "markdown",
   "id": "2faf827c-206d-4523-82f7-0ab25bd68bea",
   "metadata": {},
   "source": [
    "| **Data Science Tools** |\n",
    "| -------------------- |\n",
    "| Jupyter Notebook |\n",
    "| RStudio |\n",
    "| Spyder |"
   ]
  },
  {
   "cell_type": "markdown",
   "id": "392152e5-2271-45e5-a230-943b138ecb9b",
   "metadata": {},
   "source": [
    "### Below are a few examples of evaluating arithmetic expressions in python\n",
    "\n",
    "6\n",
    "\n",
    "4+5\n",
    "\n",
    "8-4\n",
    "\n",
    "5*8\n",
    "\n",
    "6*(4+5)"
   ]
  },
  {
   "cell_type": "markdown",
   "id": "94f690af-e46b-49f7-8711-5bdeeb4257cf",
   "metadata": {},
   "source": [
    "*This is a simple arithmetic expression to multiply then add integers*"
   ]
  },
  {
   "cell_type": "code",
   "execution_count": 1,
   "id": "6d2f32d6-991c-4980-a6cb-892392af0e94",
   "metadata": {
    "tags": []
   },
   "outputs": [
    {
     "data": {
      "text/plain": [
       "17"
      ]
     },
     "execution_count": 1,
     "metadata": {},
     "output_type": "execute_result"
    }
   ],
   "source": [
    "(3*4)+5"
   ]
  },
  {
   "cell_type": "markdown",
   "id": "ad286573-d98d-4745-b2ae-b652df6f6d54",
   "metadata": {},
   "source": [
    "*This will convert 200 minutes to hours by diving by 60*"
   ]
  },
  {
   "cell_type": "code",
   "execution_count": 2,
   "id": "ca106b21-88ae-4328-a452-2d70c487c1d7",
   "metadata": {
    "tags": []
   },
   "outputs": [
    {
     "data": {
      "text/plain": [
       "3.3333333333333335"
      ]
     },
     "execution_count": 2,
     "metadata": {},
     "output_type": "execute_result"
    }
   ],
   "source": [
    "200/60"
   ]
  },
  {
   "cell_type": "markdown",
   "id": "bafe7a7e-a4a2-446c-a16b-1db7de9fe8bd",
   "metadata": {},
   "source": [
    "## Autor\n",
    "Luz Saldana"
   ]
  }
 ],
 "metadata": {
  "kernelspec": {
   "display_name": "Python",
   "language": "python",
   "name": "conda-env-python-py"
  },
  "language_info": {
   "codemirror_mode": {
    "name": "ipython",
    "version": 3
   },
   "file_extension": ".py",
   "mimetype": "text/x-python",
   "name": "python",
   "nbconvert_exporter": "python",
   "pygments_lexer": "ipython3",
   "version": "3.7.12"
  }
 },
 "nbformat": 4,
 "nbformat_minor": 5
}
